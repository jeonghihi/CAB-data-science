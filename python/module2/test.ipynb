{
 "metadata": {
  "language_info": {
   "codemirror_mode": {
    "name": "ipython",
    "version": 3
   },
   "file_extension": ".py",
   "mimetype": "text/x-python",
   "name": "python",
   "nbconvert_exporter": "python",
   "pygments_lexer": "ipython3",
   "version": "3.7.4-final"
  },
  "orig_nbformat": 2,
  "kernelspec": {
   "name": "python3",
   "display_name": "Python 3"
  }
 },
 "nbformat": 4,
 "nbformat_minor": 2,
 "cells": [
  {
   "cell_type": "code",
   "execution_count": 4,
   "metadata": {},
   "outputs": [],
   "source": [
    "import pandas as pd"
   ]
  },
  {
   "cell_type": "code",
   "execution_count": 5,
   "metadata": {},
   "outputs": [],
   "source": [
    "df = pd.read_json('search_output.jsonl')"
   ]
  },
  {
   "cell_type": "code",
   "execution_count": 6,
   "metadata": {},
   "outputs": [
    {
     "output_type": "execute_result",
     "data": {
      "text/plain": [
       "                                                 title  \\\n",
       "0    Daysky V14S Laptop, 14.1\" Full HD Display, Int...   \n",
       "1    Facetel Q3 Pro 10 inch Tablet, Octa-Core Proce...   \n",
       "2    AMD Ryzen 5 3600 6-Core, 12-Thread Unlocked De...   \n",
       "3    AMD Ryzen 5 2600 Processor with Wraith Stealth...   \n",
       "4    Intel Core i9-10850K Desktop Processor 10 Core...   \n",
       "..                                                 ...   \n",
       "593  GIGABYTE B450 Gaming X (AMD Ryzen AM4/ 1xM.2/H...   \n",
       "594  Tablet 10.8 Inch Android 10.0, 4GB+64GB/ 512GB...   \n",
       "595  Latest Dell Inspiron 7000 All-in-One Desktop 2...   \n",
       "596  Mini PC Windows 10, BMAX Fanless Mini Computer...   \n",
       "597  Intel Core i9-7920X Tray Processor (CD80673037...   \n",
       "\n",
       "                                                   url              rating  \\\n",
       "0    https://www.amazon.com/gp/slredirect/picassoRe...  4.1 out of 5 stars   \n",
       "1    https://www.amazon.com/gp/slredirect/picassoRe...  4.3 out of 5 stars   \n",
       "2    https://www.amazon.com/AMD-Ryzen-3600-12-Threa...  4.9 out of 5 stars   \n",
       "3    https://www.amazon.com/AMD-Processor-Wraith-St...  4.8 out of 5 stars   \n",
       "4    https://www.amazon.com/Intel-i9-10850K-Desktop...  4.8 out of 5 stars   \n",
       "..                                                 ...                 ...   \n",
       "593  https://www.amazon.com/GIGABYTE-B450-Gaming-AM...  4.8 out of 5 stars   \n",
       "594  https://www.amazon.com/Android-10-core-Process...  3.1 out of 5 stars   \n",
       "595  https://www.amazon.com/Dell-Inspiron-Desktop-i...  4.5 out of 5 stars   \n",
       "596  https://www.amazon.com/Windows-Computer-Proces...  3.7 out of 5 stars   \n",
       "597  https://www.amazon.com/Intel-Core-i9-7920X-Pro...  5.0 out of 5 stars   \n",
       "\n",
       "    review_count    price  \n",
       "0             47  $369.99  \n",
       "1            149  $149.99  \n",
       "2         29,311     None  \n",
       "3         19,584  $189.99  \n",
       "4            546     None  \n",
       "..           ...      ...  \n",
       "593           20  $125.99  \n",
       "594           11  $210.99  \n",
       "595            2  $999.00  \n",
       "596           16  $149.99  \n",
       "597            2  $599.00  \n",
       "\n",
       "[598 rows x 5 columns]"
      ],
      "text/html": "<div>\n<style scoped>\n    .dataframe tbody tr th:only-of-type {\n        vertical-align: middle;\n    }\n\n    .dataframe tbody tr th {\n        vertical-align: top;\n    }\n\n    .dataframe thead th {\n        text-align: right;\n    }\n</style>\n<table border=\"1\" class=\"dataframe\">\n  <thead>\n    <tr style=\"text-align: right;\">\n      <th></th>\n      <th>title</th>\n      <th>url</th>\n      <th>rating</th>\n      <th>review_count</th>\n      <th>price</th>\n    </tr>\n  </thead>\n  <tbody>\n    <tr>\n      <th>0</th>\n      <td>Daysky V14S Laptop, 14.1\" Full HD Display, Int...</td>\n      <td>https://www.amazon.com/gp/slredirect/picassoRe...</td>\n      <td>4.1 out of 5 stars</td>\n      <td>47</td>\n      <td>$369.99</td>\n    </tr>\n    <tr>\n      <th>1</th>\n      <td>Facetel Q3 Pro 10 inch Tablet, Octa-Core Proce...</td>\n      <td>https://www.amazon.com/gp/slredirect/picassoRe...</td>\n      <td>4.3 out of 5 stars</td>\n      <td>149</td>\n      <td>$149.99</td>\n    </tr>\n    <tr>\n      <th>2</th>\n      <td>AMD Ryzen 5 3600 6-Core, 12-Thread Unlocked De...</td>\n      <td>https://www.amazon.com/AMD-Ryzen-3600-12-Threa...</td>\n      <td>4.9 out of 5 stars</td>\n      <td>29,311</td>\n      <td>None</td>\n    </tr>\n    <tr>\n      <th>3</th>\n      <td>AMD Ryzen 5 2600 Processor with Wraith Stealth...</td>\n      <td>https://www.amazon.com/AMD-Processor-Wraith-St...</td>\n      <td>4.8 out of 5 stars</td>\n      <td>19,584</td>\n      <td>$189.99</td>\n    </tr>\n    <tr>\n      <th>4</th>\n      <td>Intel Core i9-10850K Desktop Processor 10 Core...</td>\n      <td>https://www.amazon.com/Intel-i9-10850K-Desktop...</td>\n      <td>4.8 out of 5 stars</td>\n      <td>546</td>\n      <td>None</td>\n    </tr>\n    <tr>\n      <th>...</th>\n      <td>...</td>\n      <td>...</td>\n      <td>...</td>\n      <td>...</td>\n      <td>...</td>\n    </tr>\n    <tr>\n      <th>593</th>\n      <td>GIGABYTE B450 Gaming X (AMD Ryzen AM4/ 1xM.2/H...</td>\n      <td>https://www.amazon.com/GIGABYTE-B450-Gaming-AM...</td>\n      <td>4.8 out of 5 stars</td>\n      <td>20</td>\n      <td>$125.99</td>\n    </tr>\n    <tr>\n      <th>594</th>\n      <td>Tablet 10.8 Inch Android 10.0, 4GB+64GB/ 512GB...</td>\n      <td>https://www.amazon.com/Android-10-core-Process...</td>\n      <td>3.1 out of 5 stars</td>\n      <td>11</td>\n      <td>$210.99</td>\n    </tr>\n    <tr>\n      <th>595</th>\n      <td>Latest Dell Inspiron 7000 All-in-One Desktop 2...</td>\n      <td>https://www.amazon.com/Dell-Inspiron-Desktop-i...</td>\n      <td>4.5 out of 5 stars</td>\n      <td>2</td>\n      <td>$999.00</td>\n    </tr>\n    <tr>\n      <th>596</th>\n      <td>Mini PC Windows 10, BMAX Fanless Mini Computer...</td>\n      <td>https://www.amazon.com/Windows-Computer-Proces...</td>\n      <td>3.7 out of 5 stars</td>\n      <td>16</td>\n      <td>$149.99</td>\n    </tr>\n    <tr>\n      <th>597</th>\n      <td>Intel Core i9-7920X Tray Processor (CD80673037...</td>\n      <td>https://www.amazon.com/Intel-Core-i9-7920X-Pro...</td>\n      <td>5.0 out of 5 stars</td>\n      <td>2</td>\n      <td>$599.00</td>\n    </tr>\n  </tbody>\n</table>\n<p>598 rows × 5 columns</p>\n</div>"
     },
     "metadata": {},
     "execution_count": 6
    }
   ],
   "source": [
    "df"
   ]
  },
  {
   "cell_type": "code",
   "execution_count": 7,
   "metadata": {},
   "outputs": [],
   "source": [
    "df.loc[:, 'prod_type'] = 'Processor'"
   ]
  },
  {
   "cell_type": "code",
   "execution_count": 23,
   "metadata": {},
   "outputs": [
    {
     "output_type": "execute_result",
     "data": {
      "text/plain": [
       "                                               title  \\\n",
       "0  Daysky V14S Laptop, 14.1\" Full HD Display, Int...   \n",
       "1  Facetel Q3 Pro 10 inch Tablet, Octa-Core Proce...   \n",
       "2  AMD Ryzen 5 3600 6-Core, 12-Thread Unlocked De...   \n",
       "3  AMD Ryzen 5 2600 Processor with Wraith Stealth...   \n",
       "4  Intel Core i9-10850K Desktop Processor 10 Core...   \n",
       "5  AMD Ryzen 5 3600X 6-Core, 12-Thread Unlocked D...   \n",
       "6  Intel Core i7-9700K Desktop Processor 8 Cores ...   \n",
       "7  Intel Core i9-9900K Desktop Processor 8 Cores ...   \n",
       "8  Intel BX80684I99900KF Intel Core i9-9900KF Des...   \n",
       "9  Intel Core i7-11700K Desktop Processor 8 Cores...   \n",
       "\n",
       "                                                 url              rating  \\\n",
       "0  https://www.amazon.com/gp/slredirect/picassoRe...  4.1 out of 5 stars   \n",
       "1  https://www.amazon.com/gp/slredirect/picassoRe...  4.3 out of 5 stars   \n",
       "2  https://www.amazon.com/AMD-Ryzen-3600-12-Threa...  4.9 out of 5 stars   \n",
       "3  https://www.amazon.com/AMD-Processor-Wraith-St...  4.8 out of 5 stars   \n",
       "4  https://www.amazon.com/Intel-i9-10850K-Desktop...  4.8 out of 5 stars   \n",
       "5  https://www.amazon.com/AMD-Ryzen-3600X-12-Thre...  4.8 out of 5 stars   \n",
       "6  https://www.amazon.com/Intel-i7-9700K-Desktop-...  4.8 out of 5 stars   \n",
       "7  https://www.amazon.com/Intel-i9-9900K-Processo...  4.8 out of 5 stars   \n",
       "8  https://www.amazon.com/Intel-BX80684I99900KF-i...  4.6 out of 5 stars   \n",
       "9  https://www.amazon.com/Intel-i7-11700K-Desktop...                None   \n",
       "\n",
       "  review_count    price  prod_type  \n",
       "0           47  $369.99  Processor  \n",
       "1          149  $149.99  Processor  \n",
       "2       29,311     None  Processor  \n",
       "3       19,584  $189.99  Processor  \n",
       "4          546     None  Processor  \n",
       "5        9,903     None  Processor  \n",
       "6        7,404  $299.99  Processor  \n",
       "7          747  $399.99  Processor  \n",
       "8        1,369     None  Processor  \n",
       "9         None  $418.99  Processor  "
      ],
      "text/html": "<div>\n<style scoped>\n    .dataframe tbody tr th:only-of-type {\n        vertical-align: middle;\n    }\n\n    .dataframe tbody tr th {\n        vertical-align: top;\n    }\n\n    .dataframe thead th {\n        text-align: right;\n    }\n</style>\n<table border=\"1\" class=\"dataframe\">\n  <thead>\n    <tr style=\"text-align: right;\">\n      <th></th>\n      <th>title</th>\n      <th>url</th>\n      <th>rating</th>\n      <th>review_count</th>\n      <th>price</th>\n      <th>prod_type</th>\n    </tr>\n  </thead>\n  <tbody>\n    <tr>\n      <th>0</th>\n      <td>Daysky V14S Laptop, 14.1\" Full HD Display, Int...</td>\n      <td>https://www.amazon.com/gp/slredirect/picassoRe...</td>\n      <td>4.1 out of 5 stars</td>\n      <td>47</td>\n      <td>$369.99</td>\n      <td>Processor</td>\n    </tr>\n    <tr>\n      <th>1</th>\n      <td>Facetel Q3 Pro 10 inch Tablet, Octa-Core Proce...</td>\n      <td>https://www.amazon.com/gp/slredirect/picassoRe...</td>\n      <td>4.3 out of 5 stars</td>\n      <td>149</td>\n      <td>$149.99</td>\n      <td>Processor</td>\n    </tr>\n    <tr>\n      <th>2</th>\n      <td>AMD Ryzen 5 3600 6-Core, 12-Thread Unlocked De...</td>\n      <td>https://www.amazon.com/AMD-Ryzen-3600-12-Threa...</td>\n      <td>4.9 out of 5 stars</td>\n      <td>29,311</td>\n      <td>None</td>\n      <td>Processor</td>\n    </tr>\n    <tr>\n      <th>3</th>\n      <td>AMD Ryzen 5 2600 Processor with Wraith Stealth...</td>\n      <td>https://www.amazon.com/AMD-Processor-Wraith-St...</td>\n      <td>4.8 out of 5 stars</td>\n      <td>19,584</td>\n      <td>$189.99</td>\n      <td>Processor</td>\n    </tr>\n    <tr>\n      <th>4</th>\n      <td>Intel Core i9-10850K Desktop Processor 10 Core...</td>\n      <td>https://www.amazon.com/Intel-i9-10850K-Desktop...</td>\n      <td>4.8 out of 5 stars</td>\n      <td>546</td>\n      <td>None</td>\n      <td>Processor</td>\n    </tr>\n    <tr>\n      <th>5</th>\n      <td>AMD Ryzen 5 3600X 6-Core, 12-Thread Unlocked D...</td>\n      <td>https://www.amazon.com/AMD-Ryzen-3600X-12-Thre...</td>\n      <td>4.8 out of 5 stars</td>\n      <td>9,903</td>\n      <td>None</td>\n      <td>Processor</td>\n    </tr>\n    <tr>\n      <th>6</th>\n      <td>Intel Core i7-9700K Desktop Processor 8 Cores ...</td>\n      <td>https://www.amazon.com/Intel-i7-9700K-Desktop-...</td>\n      <td>4.8 out of 5 stars</td>\n      <td>7,404</td>\n      <td>$299.99</td>\n      <td>Processor</td>\n    </tr>\n    <tr>\n      <th>7</th>\n      <td>Intel Core i9-9900K Desktop Processor 8 Cores ...</td>\n      <td>https://www.amazon.com/Intel-i9-9900K-Processo...</td>\n      <td>4.8 out of 5 stars</td>\n      <td>747</td>\n      <td>$399.99</td>\n      <td>Processor</td>\n    </tr>\n    <tr>\n      <th>8</th>\n      <td>Intel BX80684I99900KF Intel Core i9-9900KF Des...</td>\n      <td>https://www.amazon.com/Intel-BX80684I99900KF-i...</td>\n      <td>4.6 out of 5 stars</td>\n      <td>1,369</td>\n      <td>None</td>\n      <td>Processor</td>\n    </tr>\n    <tr>\n      <th>9</th>\n      <td>Intel Core i7-11700K Desktop Processor 8 Cores...</td>\n      <td>https://www.amazon.com/Intel-i7-11700K-Desktop...</td>\n      <td>None</td>\n      <td>None</td>\n      <td>$418.99</td>\n      <td>Processor</td>\n    </tr>\n  </tbody>\n</table>\n</div>"
     },
     "metadata": {},
     "execution_count": 23
    }
   ],
   "source": [
    "df.head(10)"
   ]
  },
  {
   "cell_type": "code",
   "execution_count": 27,
   "metadata": {},
   "outputs": [
    {
     "output_type": "execute_result",
     "data": {
      "text/plain": [
       "'https://www.amazon.com/Intel-i7-11700K-Desktop-Processor-Unlocked/dp/B08X6ND3WP/ref=sr_1_10?dchild=1&keywords=Processor&qid=1616768822&sr=8-10'"
      ]
     },
     "metadata": {},
     "execution_count": 27
    }
   ],
   "source": [
    "df.url[9]"
   ]
  },
  {
   "cell_type": "code",
   "execution_count": 33,
   "metadata": {},
   "outputs": [
    {
     "output_type": "execute_result",
     "data": {
      "text/plain": [
       "title            0\n",
       "url              0\n",
       "rating          55\n",
       "review_count    55\n",
       "price           86\n",
       "prod_type        0\n",
       "dtype: int64"
      ]
     },
     "metadata": {},
     "execution_count": 33
    }
   ],
   "source": [
    "df.isnull().sum()"
   ]
  },
  {
   "cell_type": "code",
   "execution_count": 10,
   "metadata": {},
   "outputs": [
    {
     "output_type": "execute_result",
     "data": {
      "text/plain": [
       "579"
      ]
     },
     "metadata": {},
     "execution_count": 10
    }
   ],
   "source": [
    "len(set(df.title))"
   ]
  },
  {
   "cell_type": "code",
   "execution_count": 22,
   "metadata": {},
   "outputs": [
    {
     "output_type": "execute_result",
     "data": {
      "text/plain": [
       "0     4.1 out of 5 stars\n",
       "1     4.3 out of 5 stars\n",
       "2     4.9 out of 5 stars\n",
       "3     4.8 out of 5 stars\n",
       "4     4.8 out of 5 stars\n",
       "5     4.8 out of 5 stars\n",
       "6     4.8 out of 5 stars\n",
       "7     4.8 out of 5 stars\n",
       "8     4.6 out of 5 stars\n",
       "9                   None\n",
       "10    4.4 out of 5 stars\n",
       "Name: rating, dtype: object"
      ]
     },
     "metadata": {},
     "execution_count": 22
    }
   ],
   "source": [
    "df.rating[0:11]"
   ]
  },
  {
   "cell_type": "code",
   "execution_count": 11,
   "metadata": {},
   "outputs": [
    {
     "output_type": "execute_result",
     "data": {
      "text/plain": [
       "AMD Ryzen 5 2600X Processor with Wraith Spire Cooler - YD260XBCAFBOX                                                                                                                                        2\n",
       "Onionnest Android Tablet, 4GB RAM 64GB Storage, Quad-Core Processor, 10.1 IPS HD Display, Micro HDMI, Android 9.0 Pie, 5G WiFi, Dual SIM Dual Camera Network Call Phone Metal Body Black                    2\n",
       "AMD Ryzen 7 3700X 8-Core, 16-Thread Unlocked Desktop Processor with Wraith Prism LED Cooler                                                                                                                 2\n",
       "Mini PC, Intel Celeron J3455 Processor(up to 2.3GHz) Windows 10(64-bit) Mini Desktop Computer with HDMI/VGA Port,4GB DDR3/64GB eMMC,Gigabit Ethernet,Dual Band Wi-Fi,Bluetooth 4.2,4K HD                    2\n",
       "Microsoft Laptop 3 (PKU-00001) | 13.3in (2256 x 1504) Touch-Screen | Intel Core i5 Processor | 8GB RAM | 256GB SSD Storage | Windows 10 Pro | (Alcantara) Platinum                                          2\n",
       "                                                                                                                                                                                                           ..\n",
       "Lenovo Chromebook S330 Laptop, 14-Inch HD (1366 x 768) Display, MediaTek MT8173C Processor, 4GB OnBoard LPDDR3, 32GB eMMC SSD, Chrome OS, 81JW0001US, Black                                                 1\n",
       "Latest_Dell XPS 13.3\" FHD InfinityEdge Display Laptop, 10th Gen Intel i7-10510U Processor , 8GB RAM, 512GB SSD, Wireless+Bluetooth, Backlit Keyboard, Fingerprint Reader, HDMI，Window 10 (Renewed)          1\n",
       "Beelink GTR PRO Mini PC Windows 10 Pro,AMD Ryzen 5 3550H Processor(up to 3.7 GHz)8GB DDR4 256GB NVMe SSD+1TB HDD,WiFi 6,BT5.0,Dual Gigabit Ethernet,Multi-screen interactive,4K PC,Hi-Fi sound Gaming PC    1\n",
       "Pritom Kids Tablet, 32 GB ROM, Quad Core Processor, HD IPS Display, WiFi 7 inch Android Tablet, Kid-Proof with Kids Tablet Case                                                                             1\n",
       "Blackview Tab8 Tablet, 10.1 inch Android Tablet with 64 GB Octa Core Processor, 1920x1200 IPS FHD Display, 13MP+5MP Dual Camera, GPS, FM, 5G WiFi, Gold                                                     1\n",
       "Name: title, Length: 579, dtype: int64"
      ]
     },
     "metadata": {},
     "execution_count": 11
    }
   ],
   "source": [
    "df.title.value_counts()"
   ]
  },
  {
   "cell_type": "code",
   "execution_count": 15,
   "metadata": {},
   "outputs": [
    {
     "output_type": "execute_result",
     "data": {
      "text/plain": [
       "['4.1', 'out of 5 stars']"
      ]
     },
     "metadata": {},
     "execution_count": 15
    }
   ],
   "source": [
    "df.rating.str.split(' ', n = 1)[0]"
   ]
  },
  {
   "cell_type": "code",
   "execution_count": 31,
   "metadata": {},
   "outputs": [],
   "source": [
    "for i in range(len(df.rating)):\n",
    "    try:\n",
    "        df.loc[i,'rating'] = df.loc[i,'rating'].split(' ')[0]\n",
    "    except:\n",
    "        continue\n",
    "        #print('Sorry lets move on')"
   ]
  },
  {
   "cell_type": "code",
   "execution_count": 32,
   "metadata": {},
   "outputs": [
    {
     "output_type": "execute_result",
     "data": {
      "text/plain": [
       "                                                 title  \\\n",
       "0    Daysky V14S Laptop, 14.1\" Full HD Display, Int...   \n",
       "1    Facetel Q3 Pro 10 inch Tablet, Octa-Core Proce...   \n",
       "2    AMD Ryzen 5 3600 6-Core, 12-Thread Unlocked De...   \n",
       "3    AMD Ryzen 5 2600 Processor with Wraith Stealth...   \n",
       "4    Intel Core i9-10850K Desktop Processor 10 Core...   \n",
       "..                                                 ...   \n",
       "593  GIGABYTE B450 Gaming X (AMD Ryzen AM4/ 1xM.2/H...   \n",
       "594  Tablet 10.8 Inch Android 10.0, 4GB+64GB/ 512GB...   \n",
       "595  Latest Dell Inspiron 7000 All-in-One Desktop 2...   \n",
       "596  Mini PC Windows 10, BMAX Fanless Mini Computer...   \n",
       "597  Intel Core i9-7920X Tray Processor (CD80673037...   \n",
       "\n",
       "                                                   url rating review_count  \\\n",
       "0    https://www.amazon.com/gp/slredirect/picassoRe...    4.1           47   \n",
       "1    https://www.amazon.com/gp/slredirect/picassoRe...    4.3          149   \n",
       "2    https://www.amazon.com/AMD-Ryzen-3600-12-Threa...    4.9       29,311   \n",
       "3    https://www.amazon.com/AMD-Processor-Wraith-St...    4.8       19,584   \n",
       "4    https://www.amazon.com/Intel-i9-10850K-Desktop...    4.8          546   \n",
       "..                                                 ...    ...          ...   \n",
       "593  https://www.amazon.com/GIGABYTE-B450-Gaming-AM...    4.8           20   \n",
       "594  https://www.amazon.com/Android-10-core-Process...    3.1           11   \n",
       "595  https://www.amazon.com/Dell-Inspiron-Desktop-i...    4.5            2   \n",
       "596  https://www.amazon.com/Windows-Computer-Proces...    3.7           16   \n",
       "597  https://www.amazon.com/Intel-Core-i9-7920X-Pro...    5.0            2   \n",
       "\n",
       "       price  prod_type  \n",
       "0    $369.99  Processor  \n",
       "1    $149.99  Processor  \n",
       "2       None  Processor  \n",
       "3    $189.99  Processor  \n",
       "4       None  Processor  \n",
       "..       ...        ...  \n",
       "593  $125.99  Processor  \n",
       "594  $210.99  Processor  \n",
       "595  $999.00  Processor  \n",
       "596  $149.99  Processor  \n",
       "597  $599.00  Processor  \n",
       "\n",
       "[598 rows x 6 columns]"
      ],
      "text/html": "<div>\n<style scoped>\n    .dataframe tbody tr th:only-of-type {\n        vertical-align: middle;\n    }\n\n    .dataframe tbody tr th {\n        vertical-align: top;\n    }\n\n    .dataframe thead th {\n        text-align: right;\n    }\n</style>\n<table border=\"1\" class=\"dataframe\">\n  <thead>\n    <tr style=\"text-align: right;\">\n      <th></th>\n      <th>title</th>\n      <th>url</th>\n      <th>rating</th>\n      <th>review_count</th>\n      <th>price</th>\n      <th>prod_type</th>\n    </tr>\n  </thead>\n  <tbody>\n    <tr>\n      <th>0</th>\n      <td>Daysky V14S Laptop, 14.1\" Full HD Display, Int...</td>\n      <td>https://www.amazon.com/gp/slredirect/picassoRe...</td>\n      <td>4.1</td>\n      <td>47</td>\n      <td>$369.99</td>\n      <td>Processor</td>\n    </tr>\n    <tr>\n      <th>1</th>\n      <td>Facetel Q3 Pro 10 inch Tablet, Octa-Core Proce...</td>\n      <td>https://www.amazon.com/gp/slredirect/picassoRe...</td>\n      <td>4.3</td>\n      <td>149</td>\n      <td>$149.99</td>\n      <td>Processor</td>\n    </tr>\n    <tr>\n      <th>2</th>\n      <td>AMD Ryzen 5 3600 6-Core, 12-Thread Unlocked De...</td>\n      <td>https://www.amazon.com/AMD-Ryzen-3600-12-Threa...</td>\n      <td>4.9</td>\n      <td>29,311</td>\n      <td>None</td>\n      <td>Processor</td>\n    </tr>\n    <tr>\n      <th>3</th>\n      <td>AMD Ryzen 5 2600 Processor with Wraith Stealth...</td>\n      <td>https://www.amazon.com/AMD-Processor-Wraith-St...</td>\n      <td>4.8</td>\n      <td>19,584</td>\n      <td>$189.99</td>\n      <td>Processor</td>\n    </tr>\n    <tr>\n      <th>4</th>\n      <td>Intel Core i9-10850K Desktop Processor 10 Core...</td>\n      <td>https://www.amazon.com/Intel-i9-10850K-Desktop...</td>\n      <td>4.8</td>\n      <td>546</td>\n      <td>None</td>\n      <td>Processor</td>\n    </tr>\n    <tr>\n      <th>...</th>\n      <td>...</td>\n      <td>...</td>\n      <td>...</td>\n      <td>...</td>\n      <td>...</td>\n      <td>...</td>\n    </tr>\n    <tr>\n      <th>593</th>\n      <td>GIGABYTE B450 Gaming X (AMD Ryzen AM4/ 1xM.2/H...</td>\n      <td>https://www.amazon.com/GIGABYTE-B450-Gaming-AM...</td>\n      <td>4.8</td>\n      <td>20</td>\n      <td>$125.99</td>\n      <td>Processor</td>\n    </tr>\n    <tr>\n      <th>594</th>\n      <td>Tablet 10.8 Inch Android 10.0, 4GB+64GB/ 512GB...</td>\n      <td>https://www.amazon.com/Android-10-core-Process...</td>\n      <td>3.1</td>\n      <td>11</td>\n      <td>$210.99</td>\n      <td>Processor</td>\n    </tr>\n    <tr>\n      <th>595</th>\n      <td>Latest Dell Inspiron 7000 All-in-One Desktop 2...</td>\n      <td>https://www.amazon.com/Dell-Inspiron-Desktop-i...</td>\n      <td>4.5</td>\n      <td>2</td>\n      <td>$999.00</td>\n      <td>Processor</td>\n    </tr>\n    <tr>\n      <th>596</th>\n      <td>Mini PC Windows 10, BMAX Fanless Mini Computer...</td>\n      <td>https://www.amazon.com/Windows-Computer-Proces...</td>\n      <td>3.7</td>\n      <td>16</td>\n      <td>$149.99</td>\n      <td>Processor</td>\n    </tr>\n    <tr>\n      <th>597</th>\n      <td>Intel Core i9-7920X Tray Processor (CD80673037...</td>\n      <td>https://www.amazon.com/Intel-Core-i9-7920X-Pro...</td>\n      <td>5.0</td>\n      <td>2</td>\n      <td>$599.00</td>\n      <td>Processor</td>\n    </tr>\n  </tbody>\n</table>\n<p>598 rows × 6 columns</p>\n</div>"
     },
     "metadata": {},
     "execution_count": 32
    }
   ],
   "source": [
    "df"
   ]
  },
  {
   "cell_type": "code",
   "execution_count": 38,
   "metadata": {},
   "outputs": [],
   "source": [
    "df.rating = df.rating.astype('float')"
   ]
  },
  {
   "cell_type": "code",
   "execution_count": 43,
   "metadata": {},
   "outputs": [
    {
     "output_type": "execute_result",
     "data": {
      "text/plain": [
       "title            object\n",
       "url              object\n",
       "rating          float64\n",
       "review_count     object\n",
       "price            object\n",
       "prod_type        object\n",
       "dtype: object"
      ]
     },
     "metadata": {},
     "execution_count": 43
    }
   ],
   "source": [
    "df.dtypes"
   ]
  },
  {
   "cell_type": "code",
   "execution_count": 46,
   "metadata": {},
   "outputs": [],
   "source": [
    "df.to_csv('summary_processors.csv', index= None)"
   ]
  },
  {
   "cell_type": "code",
   "execution_count": 48,
   "metadata": {},
   "outputs": [],
   "source": [
    "df1 = pd.read_json('product_output.jsonl')"
   ]
  },
  {
   "cell_type": "code",
   "execution_count": 49,
   "metadata": {},
   "outputs": [
    {
     "output_type": "execute_result",
     "data": {
      "text/plain": [
       "                                                  name  \\\n",
       "0    Daysky V14S Laptop, 14.1\" Full HD Display, Int...   \n",
       "1    Facetel Q3 Pro 10 inch Tablet, Octa-Core Proce...   \n",
       "2    AMD Ryzen 5 3600 6-Core, 12-Thread Unlocked De...   \n",
       "3    AMD Ryzen 5 2600 Processor with Wraith Stealth...   \n",
       "4    Intel Core i9-10850K Desktop Processor 10 Core...   \n",
       "..                                                 ...   \n",
       "167  Asus TUF FX505DT Gaming Laptop, 15.6” Full HD,...   \n",
       "168  Lenovo IdeaPad 3 15\" Laptop, 15.6\" HD (1366 x ...   \n",
       "169  ASUS Chromebook C223 Laptop- 11.6\" HD 1366x768...   \n",
       "170  Beelink U55 Mini PC Windows 10 Pro, Intel Core...   \n",
       "171  MeLE Mini PC Stick Windows 10 Pro 8GB DDR 128G...   \n",
       "\n",
       "                                       product_summary  \\\n",
       "0    [{'info': 'Brand', 'value': 'DaySky'}, {'info'...   \n",
       "1    [{'info': 'Brand', 'value': 'FACETEL'}, {'info...   \n",
       "2    [{'info': 'Brand', 'value': 'AMD'}, {'info': '...   \n",
       "3    [{'info': 'Brand', 'value': 'AMD'}, {'info': '...   \n",
       "4    [{'info': 'Brand', 'value': 'Intel'}, {'info':...   \n",
       "..                                                 ...   \n",
       "167  [{'info': 'Brand', 'value': 'ASUS'}, {'info': ...   \n",
       "168  [{'info': 'Brand', 'value': 'Lenovo'}, {'info'...   \n",
       "169  [{'info': 'Brand', 'value': 'ASUS'}, {'info': ...   \n",
       "170  [{'info': 'Brand', 'value': 'Beelink'}, {'info...   \n",
       "171  [{'info': 'Brand', 'value': 'MeLE'}, {'info': ...   \n",
       "\n",
       "                                     product_tech_spec  \\\n",
       "0    [{'info': 'Standing screen display size', 'val...   \n",
       "1    [{'info': 'Standing screen display size', 'val...   \n",
       "2    [{'info': 'Processor', 'value': '4.2 GHz ryzen...   \n",
       "3    [{'info': 'Processor', 'value': '3.9 GHz ryzen...   \n",
       "4    [{'info': 'Processor', 'value': '3.6 GHz core_...   \n",
       "..                                                 ...   \n",
       "167  [{'info': 'Standing screen display size', 'val...   \n",
       "168  [{'info': 'Standing screen display size', 'val...   \n",
       "169  [{'info': 'Standing screen display size', 'val...   \n",
       "170  [{'info': 'Max Screen Resolution', 'value': '2...   \n",
       "171  [{'info': 'Processor', 'value': '2.7 GHz celer...   \n",
       "\n",
       "                                     product_addl_info seller seller_link  \\\n",
       "0    [{'info': 'ASIN', 'value': 'B08LV78LJK'}, {'in...   None        None   \n",
       "1    [{'info': 'ASIN', 'value': 'B08CBRB2CS'}, {'in...   None        None   \n",
       "2    [{'info': 'Customer Reviews', 'value': '/*\n",
       "* F...   None        None   \n",
       "3    [{'info': 'Customer Reviews', 'value': '/*\n",
       "* F...   None        None   \n",
       "4    [{'info': 'Customer Reviews', 'value': '/*\n",
       "* F...   None        None   \n",
       "..                                                 ...    ...         ...   \n",
       "167  [{'info': 'ASIN', 'value': 'B08B5JW8JV'}, {'in...   None        None   \n",
       "168  [{'info': 'ASIN', 'value': 'B0872K4XCJ'}, {'in...   None        None   \n",
       "169  [{'info': 'ASIN', 'value': 'B07M9SN277'}, {'in...   None        None   \n",
       "170  [{'info': 'ASIN', 'value': 'B085RLQN5Z'}, {'in...   None        None   \n",
       "171  [{'info': 'ASIN', 'value': 'B08V8VJF6L'}, {'in...   None        None   \n",
       "\n",
       "                                           freq_bought  \\\n",
       "0                                                 None   \n",
       "1                                                 None   \n",
       "2                                                 None   \n",
       "3    Corsair Vengeance LPX 16GB (2x8GB) DDR4 DRAM 3...   \n",
       "4    ARCTIC MX-4 - Thermal Compound Paste For Coole...   \n",
       "..                                                 ...   \n",
       "167                                               None   \n",
       "168  Lenovo Laptop Shoulder Bag T210, 15.6-Inch Lap...   \n",
       "169              Amazon Basics 11.6-Inch Laptop Sleeve   \n",
       "170  WiFi Signal Booster,Super Boost WiFi, WiFi Ran...   \n",
       "171                                               None   \n",
       "\n",
       "                                      freq_bought_link  \\\n",
       "0                                                 None   \n",
       "1                                                 None   \n",
       "2                                                 None   \n",
       "3    /Corsair-Vengeance-3200MHz-Desktop-Memory/dp/B...   \n",
       "4    /ARCTIC-MX-4-Compound-Micro-particles-Durabili...   \n",
       "..                                                 ...   \n",
       "167                                               None   \n",
       "168  /Lenovo-Carrying-15-6-Inch-Water-Repellent-GX4...   \n",
       "169  /AmazonBasics-NC1303151-11-6-Inch-Laptop-Sleev...   \n",
       "170  /Signal-Booster-Super-Extender-300Mbps/dp/B08L...   \n",
       "171                                               None   \n",
       "\n",
       "                                   link_to_all_reviews  \n",
       "0    /Display-Processor-Computer-Backlit-Keyboard/p...  \n",
       "1    /Q3-Pro-Octa-Core-Processor-Certification/prod...  \n",
       "2    /AMD-Ryzen-3600-12-Thread-Processor/product-re...  \n",
       "3    /AMD-Processor-Wraith-Stealth-Cooler/product-r...  \n",
       "4    /Intel-i9-10850K-Desktop-Processor-Unlocked/pr...  \n",
       "..                                                 ...  \n",
       "167  /R7-3750H-Processor-Graphics-FX505DT-WB72-Keyb...  \n",
       "168  /Lenovo-Processor-Graphics-81W10094US-Business...  \n",
       "169  /ASUS-Chromebook-C223NA-DH02-Dual-Core-Process...  \n",
       "170  /Beelink-Windows-i3-5005U-Processor-Ethernet/p...  \n",
       "171                                               None  \n",
       "\n",
       "[172 rows x 9 columns]"
      ],
      "text/html": "<div>\n<style scoped>\n    .dataframe tbody tr th:only-of-type {\n        vertical-align: middle;\n    }\n\n    .dataframe tbody tr th {\n        vertical-align: top;\n    }\n\n    .dataframe thead th {\n        text-align: right;\n    }\n</style>\n<table border=\"1\" class=\"dataframe\">\n  <thead>\n    <tr style=\"text-align: right;\">\n      <th></th>\n      <th>name</th>\n      <th>product_summary</th>\n      <th>product_tech_spec</th>\n      <th>product_addl_info</th>\n      <th>seller</th>\n      <th>seller_link</th>\n      <th>freq_bought</th>\n      <th>freq_bought_link</th>\n      <th>link_to_all_reviews</th>\n    </tr>\n  </thead>\n  <tbody>\n    <tr>\n      <th>0</th>\n      <td>Daysky V14S Laptop, 14.1\" Full HD Display, Int...</td>\n      <td>[{'info': 'Brand', 'value': 'DaySky'}, {'info'...</td>\n      <td>[{'info': 'Standing screen display size', 'val...</td>\n      <td>[{'info': 'ASIN', 'value': 'B08LV78LJK'}, {'in...</td>\n      <td>None</td>\n      <td>None</td>\n      <td>None</td>\n      <td>None</td>\n      <td>/Display-Processor-Computer-Backlit-Keyboard/p...</td>\n    </tr>\n    <tr>\n      <th>1</th>\n      <td>Facetel Q3 Pro 10 inch Tablet, Octa-Core Proce...</td>\n      <td>[{'info': 'Brand', 'value': 'FACETEL'}, {'info...</td>\n      <td>[{'info': 'Standing screen display size', 'val...</td>\n      <td>[{'info': 'ASIN', 'value': 'B08CBRB2CS'}, {'in...</td>\n      <td>None</td>\n      <td>None</td>\n      <td>None</td>\n      <td>None</td>\n      <td>/Q3-Pro-Octa-Core-Processor-Certification/prod...</td>\n    </tr>\n    <tr>\n      <th>2</th>\n      <td>AMD Ryzen 5 3600 6-Core, 12-Thread Unlocked De...</td>\n      <td>[{'info': 'Brand', 'value': 'AMD'}, {'info': '...</td>\n      <td>[{'info': 'Processor', 'value': '4.2 GHz ryzen...</td>\n      <td>[{'info': 'Customer Reviews', 'value': '/*\n* F...</td>\n      <td>None</td>\n      <td>None</td>\n      <td>None</td>\n      <td>None</td>\n      <td>/AMD-Ryzen-3600-12-Thread-Processor/product-re...</td>\n    </tr>\n    <tr>\n      <th>3</th>\n      <td>AMD Ryzen 5 2600 Processor with Wraith Stealth...</td>\n      <td>[{'info': 'Brand', 'value': 'AMD'}, {'info': '...</td>\n      <td>[{'info': 'Processor', 'value': '3.9 GHz ryzen...</td>\n      <td>[{'info': 'Customer Reviews', 'value': '/*\n* F...</td>\n      <td>None</td>\n      <td>None</td>\n      <td>Corsair Vengeance LPX 16GB (2x8GB) DDR4 DRAM 3...</td>\n      <td>/Corsair-Vengeance-3200MHz-Desktop-Memory/dp/B...</td>\n      <td>/AMD-Processor-Wraith-Stealth-Cooler/product-r...</td>\n    </tr>\n    <tr>\n      <th>4</th>\n      <td>Intel Core i9-10850K Desktop Processor 10 Core...</td>\n      <td>[{'info': 'Brand', 'value': 'Intel'}, {'info':...</td>\n      <td>[{'info': 'Processor', 'value': '3.6 GHz core_...</td>\n      <td>[{'info': 'Customer Reviews', 'value': '/*\n* F...</td>\n      <td>None</td>\n      <td>None</td>\n      <td>ARCTIC MX-4 - Thermal Compound Paste For Coole...</td>\n      <td>/ARCTIC-MX-4-Compound-Micro-particles-Durabili...</td>\n      <td>/Intel-i9-10850K-Desktop-Processor-Unlocked/pr...</td>\n    </tr>\n    <tr>\n      <th>...</th>\n      <td>...</td>\n      <td>...</td>\n      <td>...</td>\n      <td>...</td>\n      <td>...</td>\n      <td>...</td>\n      <td>...</td>\n      <td>...</td>\n      <td>...</td>\n    </tr>\n    <tr>\n      <th>167</th>\n      <td>Asus TUF FX505DT Gaming Laptop, 15.6” Full HD,...</td>\n      <td>[{'info': 'Brand', 'value': 'ASUS'}, {'info': ...</td>\n      <td>[{'info': 'Standing screen display size', 'val...</td>\n      <td>[{'info': 'ASIN', 'value': 'B08B5JW8JV'}, {'in...</td>\n      <td>None</td>\n      <td>None</td>\n      <td>None</td>\n      <td>None</td>\n      <td>/R7-3750H-Processor-Graphics-FX505DT-WB72-Keyb...</td>\n    </tr>\n    <tr>\n      <th>168</th>\n      <td>Lenovo IdeaPad 3 15\" Laptop, 15.6\" HD (1366 x ...</td>\n      <td>[{'info': 'Brand', 'value': 'Lenovo'}, {'info'...</td>\n      <td>[{'info': 'Standing screen display size', 'val...</td>\n      <td>[{'info': 'ASIN', 'value': 'B0872K4XCJ'}, {'in...</td>\n      <td>None</td>\n      <td>None</td>\n      <td>Lenovo Laptop Shoulder Bag T210, 15.6-Inch Lap...</td>\n      <td>/Lenovo-Carrying-15-6-Inch-Water-Repellent-GX4...</td>\n      <td>/Lenovo-Processor-Graphics-81W10094US-Business...</td>\n    </tr>\n    <tr>\n      <th>169</th>\n      <td>ASUS Chromebook C223 Laptop- 11.6\" HD 1366x768...</td>\n      <td>[{'info': 'Brand', 'value': 'ASUS'}, {'info': ...</td>\n      <td>[{'info': 'Standing screen display size', 'val...</td>\n      <td>[{'info': 'ASIN', 'value': 'B07M9SN277'}, {'in...</td>\n      <td>None</td>\n      <td>None</td>\n      <td>Amazon Basics 11.6-Inch Laptop Sleeve</td>\n      <td>/AmazonBasics-NC1303151-11-6-Inch-Laptop-Sleev...</td>\n      <td>/ASUS-Chromebook-C223NA-DH02-Dual-Core-Process...</td>\n    </tr>\n    <tr>\n      <th>170</th>\n      <td>Beelink U55 Mini PC Windows 10 Pro, Intel Core...</td>\n      <td>[{'info': 'Brand', 'value': 'Beelink'}, {'info...</td>\n      <td>[{'info': 'Max Screen Resolution', 'value': '2...</td>\n      <td>[{'info': 'ASIN', 'value': 'B085RLQN5Z'}, {'in...</td>\n      <td>None</td>\n      <td>None</td>\n      <td>WiFi Signal Booster,Super Boost WiFi, WiFi Ran...</td>\n      <td>/Signal-Booster-Super-Extender-300Mbps/dp/B08L...</td>\n      <td>/Beelink-Windows-i3-5005U-Processor-Ethernet/p...</td>\n    </tr>\n    <tr>\n      <th>171</th>\n      <td>MeLE Mini PC Stick Windows 10 Pro 8GB DDR 128G...</td>\n      <td>[{'info': 'Brand', 'value': 'MeLE'}, {'info': ...</td>\n      <td>[{'info': 'Processor', 'value': '2.7 GHz celer...</td>\n      <td>[{'info': 'ASIN', 'value': 'B08V8VJF6L'}, {'in...</td>\n      <td>None</td>\n      <td>None</td>\n      <td>None</td>\n      <td>None</td>\n      <td>None</td>\n    </tr>\n  </tbody>\n</table>\n<p>172 rows × 9 columns</p>\n</div>"
     },
     "metadata": {},
     "execution_count": 49
    }
   ],
   "source": [
    "df1"
   ]
  },
  {
   "cell_type": "code",
   "execution_count": null,
   "metadata": {},
   "outputs": [],
   "source": []
  }
 ]
}